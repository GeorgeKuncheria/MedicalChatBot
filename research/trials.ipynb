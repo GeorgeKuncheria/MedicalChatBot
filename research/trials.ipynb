{
 "cells": [
  {
   "cell_type": "markdown",
   "id": "0cd679e9",
   "metadata": {},
   "source": [
    "# Making sure its in the Source Directory"
   ]
  },
  {
   "cell_type": "code",
   "execution_count": 1,
   "id": "27c85d13",
   "metadata": {},
   "outputs": [
    {
     "data": {
      "text/plain": [
       "'/Users/georgekuncheria/Desktop/GenAI/End-To-End_Projects/MedicalChatBot/research'"
      ]
     },
     "execution_count": 1,
     "metadata": {},
     "output_type": "execute_result"
    }
   ],
   "source": [
    "%pwd"
   ]
  },
  {
   "cell_type": "code",
   "execution_count": 2,
   "id": "b08e0082",
   "metadata": {},
   "outputs": [],
   "source": [
    "import os\n",
    "\n",
    "os.chdir(\"../\")"
   ]
  },
  {
   "cell_type": "code",
   "execution_count": 3,
   "id": "250988d8",
   "metadata": {},
   "outputs": [
    {
     "data": {
      "text/plain": [
       "'/Users/georgekuncheria/Desktop/GenAI/End-To-End_Projects/MedicalChatBot'"
      ]
     },
     "execution_count": 3,
     "metadata": {},
     "output_type": "execute_result"
    }
   ],
   "source": [
    "%pwd"
   ]
  },
  {
   "cell_type": "markdown",
   "id": "f7e3cf2c",
   "metadata": {},
   "source": [
    "# Import Important Libraries"
   ]
  },
  {
   "cell_type": "code",
   "execution_count": 4,
   "id": "cffcc0c3",
   "metadata": {},
   "outputs": [],
   "source": [
    "from langchain.document_loaders import PyPDFLoader , DirectoryLoader\n",
    "from langchain.text_splitter import RecursiveCharacterTextSplitter"
   ]
  },
  {
   "cell_type": "markdown",
   "id": "389ce3f1",
   "metadata": {},
   "source": [
    "# Loading PDF Documents"
   ]
  },
  {
   "cell_type": "code",
   "execution_count": 5,
   "id": "36aafa54",
   "metadata": {},
   "outputs": [],
   "source": [
    "def load_document(data):\n",
    "    loader= DirectoryLoader(\n",
    "        data,\n",
    "        glob=\"**/*.pdf\",\n",
    "        loader_cls=PyPDFLoader\n",
    "    )\n",
    "    documents = loader.load()\n",
    "    return documents\n",
    "\n"
   ]
  },
  {
   "cell_type": "code",
   "execution_count": 6,
   "id": "65b1a520",
   "metadata": {},
   "outputs": [],
   "source": [
    "extracted_data= load_document(\"Data/\")"
   ]
  },
  {
   "cell_type": "code",
   "execution_count": 7,
   "id": "8ffe9146",
   "metadata": {},
   "outputs": [
    {
     "data": {
      "text/plain": [
       "637"
      ]
     },
     "execution_count": 7,
     "metadata": {},
     "output_type": "execute_result"
    }
   ],
   "source": [
    "len(extracted_data)\n"
   ]
  },
  {
   "cell_type": "markdown",
   "id": "8d2002c7",
   "metadata": {},
   "source": [
    "# Creating Text Chunks"
   ]
  },
  {
   "cell_type": "code",
   "execution_count": 8,
   "id": "5f6ad237",
   "metadata": {},
   "outputs": [],
   "source": [
    "def text_split(extracted_data):\n",
    "    text_splitter = RecursiveCharacterTextSplitter(\n",
    "        chunk_size=500,\n",
    "        chunk_overlap=20\n",
    "    )\n",
    "    text_chunks = text_splitter.split_documents(extracted_data)\n",
    "    return text_chunks\n"
   ]
  },
  {
   "cell_type": "code",
   "execution_count": 24,
   "id": "52732a8f",
   "metadata": {},
   "outputs": [
    {
     "name": "stdout",
     "output_type": "stream",
     "text": [
      "Length of text chunks: 5859\n"
     ]
    }
   ],
   "source": [
    "text_chunks = text_split(extracted_data)\n",
    "print(\"Length of text chunks:\", len(text_chunks))"
   ]
  },
  {
   "cell_type": "code",
   "execution_count": 28,
   "id": "e128b597",
   "metadata": {},
   "outputs": [
    {
     "data": {
      "text/plain": [
       "'Dept. of Pediatrics, Division of\\nMedical Genetics\\nEmory University School of\\nMedicine\\nAtlanta, GA\\nBethany Thivierge\\nBiotechnical Writer/Editor\\nTechnicality Resources\\nRockland, ME\\nMai Tran, Pharm.D.\\nMedical Writer\\nTroy, MI\\nCarol Turkington\\nMedical Writer\\nLancaster, PA\\nJudith Turner, B.S.\\nMedical Writer\\nSandy, UT\\nAmy B. Tuteur, M.D.\\nMedical Advisor\\nSharon, MA\\nSamuel Uretsky, Pharm.D.\\nMedical Writer\\nWantagh, NY\\nGALE ENCYCLOPEDIA OF MEDICINE 2 XVII\\nContributors'"
      ]
     },
     "execution_count": 28,
     "metadata": {},
     "output_type": "execute_result"
    }
   ],
   "source": [
    "text_chunks[56].page_content"
   ]
  },
  {
   "cell_type": "markdown",
   "id": "4af7e2a6",
   "metadata": {},
   "source": [
    "# Creating HuggingFace Embeddings"
   ]
  },
  {
   "cell_type": "code",
   "execution_count": 10,
   "id": "32b08590",
   "metadata": {},
   "outputs": [],
   "source": [
    "from langchain_community.embeddings import HuggingFaceEmbeddings\n"
   ]
  },
  {
   "cell_type": "code",
   "execution_count": 11,
   "id": "7204df6e",
   "metadata": {},
   "outputs": [],
   "source": [
    "def download_huggingface_embeddings():\n",
    "    embeddings = HuggingFaceEmbeddings(\n",
    "        model_name=\"sentence-transformers/all-MiniLM-L6-v2\")\n",
    "    return embeddings"
   ]
  },
  {
   "cell_type": "code",
   "execution_count": 12,
   "id": "80cea2cc",
   "metadata": {},
   "outputs": [
    {
     "name": "stderr",
     "output_type": "stream",
     "text": [
      "/var/folders/ky/3vd0_rp9185bwyvm1pwr32vc0000gn/T/ipykernel_30373/3713090207.py:2: LangChainDeprecationWarning: The class `HuggingFaceEmbeddings` was deprecated in LangChain 0.2.2 and will be removed in 1.0. An updated version of the class exists in the :class:`~langchain-huggingface package and should be used instead. To use it run `pip install -U :class:`~langchain-huggingface` and import as `from :class:`~langchain_huggingface import HuggingFaceEmbeddings``.\n",
      "  embeddings = HuggingFaceEmbeddings(\n",
      "/opt/anaconda3/envs/llmapp/lib/python3.10/site-packages/tqdm/auto.py:21: TqdmWarning: IProgress not found. Please update jupyter and ipywidgets. See https://ipywidgets.readthedocs.io/en/stable/user_install.html\n",
      "  from .autonotebook import tqdm as notebook_tqdm\n"
     ]
    }
   ],
   "source": [
    "embeddings = download_huggingface_embeddings()"
   ]
  },
  {
   "cell_type": "markdown",
   "id": "9afa79e9",
   "metadata": {},
   "source": [
    "## Check for dimensions (Must be input to pinecone dimension)"
   ]
  },
  {
   "cell_type": "code",
   "execution_count": 13,
   "id": "d7c54bd3",
   "metadata": {},
   "outputs": [
    {
     "name": "stdout",
     "output_type": "stream",
     "text": [
      "length of query result: 384\n"
     ]
    }
   ],
   "source": [
    "query_result = embeddings.embed_query(\"What is the treatment for diabetes?\")\n",
    "print(\"length of query result:\", len(query_result))"
   ]
  },
  {
   "cell_type": "markdown",
   "id": "ff2d3550",
   "metadata": {},
   "source": [
    "# Initiating & Upserting to Pinecone Database"
   ]
  },
  {
   "cell_type": "code",
   "execution_count": 14,
   "id": "b5bd2542",
   "metadata": {},
   "outputs": [],
   "source": [
    "from pinecone import Pinecone, ServerlessSpec\n",
    "import os\n",
    "from dotenv import load_dotenv\n"
   ]
  },
  {
   "cell_type": "code",
   "execution_count": 15,
   "id": "7e0d502a",
   "metadata": {},
   "outputs": [
    {
     "name": "stdout",
     "output_type": "stream",
     "text": [
      "/Users/georgekuncheria/Desktop/GenAI/End-To-End_Projects/MedicalChatBot\n"
     ]
    }
   ],
   "source": [
    "print(os.getcwd())  # Where Python is running from\n"
   ]
  },
  {
   "cell_type": "code",
   "execution_count": 18,
   "id": "da9d2b17",
   "metadata": {},
   "outputs": [
    {
     "data": {
      "text/plain": [
       "True"
      ]
     },
     "execution_count": 18,
     "metadata": {},
     "output_type": "execute_result"
    }
   ],
   "source": [
    "load_dotenv()"
   ]
  },
  {
   "cell_type": "code",
   "execution_count": 40,
   "id": "7ffe10d9",
   "metadata": {},
   "outputs": [],
   "source": [
    "PINECONE_API_KEY = os.environ.get(\"PINECONE_API_KEY\")"
   ]
  },
  {
   "cell_type": "code",
   "execution_count": 22,
   "id": "c3dee249",
   "metadata": {},
   "outputs": [
    {
     "data": {
      "text/plain": [
       "{\n",
       "    \"name\": \"medical-chatbot\",\n",
       "    \"metric\": \"cosine\",\n",
       "    \"host\": \"medical-chatbot-si6xagf.svc.aped-4627-b74a.pinecone.io\",\n",
       "    \"spec\": {\n",
       "        \"serverless\": {\n",
       "            \"cloud\": \"aws\",\n",
       "            \"region\": \"us-east-1\"\n",
       "        }\n",
       "    },\n",
       "    \"status\": {\n",
       "        \"ready\": true,\n",
       "        \"state\": \"Ready\"\n",
       "    },\n",
       "    \"vector_type\": \"dense\",\n",
       "    \"dimension\": 384,\n",
       "    \"deletion_protection\": \"disabled\",\n",
       "    \"tags\": null\n",
       "}"
      ]
     },
     "execution_count": 22,
     "metadata": {},
     "output_type": "execute_result"
    }
   ],
   "source": [
    "index_name = \"medical-chatbot\"\n",
    "\n",
    "pc = Pinecone(api_key=PINECONE_API_KEY)\n",
    "\n",
    "pc.create_index(\n",
    "    name=index_name,\n",
    "    dimension=384,\n",
    "    metric=\"cosine\",\n",
    "    spec=ServerlessSpec(\n",
    "        cloud=\"aws\",\n",
    "        region=\"us-east-1\"\n",
    "    )\n",
    ")\n",
    "\n"
   ]
  },
  {
   "cell_type": "code",
   "execution_count": 23,
   "id": "b66cb396",
   "metadata": {},
   "outputs": [
    {
     "name": "stdout",
     "output_type": "stream",
     "text": [
      "{'deletion_protection': 'disabled',\n",
      " 'dimension': 384,\n",
      " 'host': 'medical-chatbot-si6xagf.svc.aped-4627-b74a.pinecone.io',\n",
      " 'metric': 'cosine',\n",
      " 'name': 'medical-chatbot',\n",
      " 'spec': {'serverless': {'cloud': 'aws', 'region': 'us-east-1'}},\n",
      " 'status': {'ready': True, 'state': 'Ready'},\n",
      " 'tags': None,\n",
      " 'vector_type': 'dense'}\n",
      "Index 'medical-chatbot' is ready and connected!\n"
     ]
    }
   ],
   "source": [
    "# Describe index\n",
    "description = pc.describe_index(index_name)\n",
    "print(description)\n",
    "\n",
    "# Check if the status is ready\n",
    "if description.status['ready']:\n",
    "    print(f\"Index '{index_name}' is ready and connected!\")\n",
    "else:\n",
    "    print(f\"Index '{index_name}' is not ready yet.\")"
   ]
  },
  {
   "cell_type": "markdown",
   "id": "e0afe6d8",
   "metadata": {},
   "source": [
    "## Upserting To Pinecone Database"
   ]
  },
  {
   "cell_type": "code",
   "execution_count": 29,
   "id": "99f68b94",
   "metadata": {},
   "outputs": [],
   "source": [
    "from langchain_pinecone import PineconeVectorStore\n",
    "\n",
    "vector_store = PineconeVectorStore.from_documents(\n",
    "    index_name=index_name,\n",
    "    embedding=embeddings,\n",
    "    documents=text_chunks\n",
    ")\n"
   ]
  },
  {
   "cell_type": "markdown",
   "id": "02307cbb",
   "metadata": {},
   "source": [
    "# Load existing index and Create a Retriever"
   ]
  },
  {
   "cell_type": "code",
   "execution_count": 30,
   "id": "e516842e",
   "metadata": {},
   "outputs": [],
   "source": [
    "from langchain_pinecone import PineconeVectorStore"
   ]
  },
  {
   "cell_type": "code",
   "execution_count": 31,
   "id": "2ab0bff7",
   "metadata": {},
   "outputs": [],
   "source": [
    "docsearch = PineconeVectorStore.from_existing_index(\n",
    "    index_name=index_name,\n",
    "    embedding=embeddings\n",
    ")"
   ]
  },
  {
   "cell_type": "code",
   "execution_count": 32,
   "id": "4e979afb",
   "metadata": {},
   "outputs": [
    {
     "data": {
      "text/plain": [
       "<langchain_pinecone.vectorstores.PineconeVectorStore at 0x119c5a350>"
      ]
     },
     "execution_count": 32,
     "metadata": {},
     "output_type": "execute_result"
    }
   ],
   "source": [
    "docsearch"
   ]
  },
  {
   "cell_type": "code",
   "execution_count": 33,
   "id": "2e961579",
   "metadata": {},
   "outputs": [],
   "source": [
    "retriever = docsearch.as_retriever(search_kwargs={\"k\": 3},search_type=\"similarity\")"
   ]
  },
  {
   "cell_type": "code",
   "execution_count": 34,
   "id": "5c5efe37",
   "metadata": {},
   "outputs": [],
   "source": [
    "retrieved_docs = retriever.invoke(\"What is the treatment for diabetes?\")"
   ]
  },
  {
   "cell_type": "code",
   "execution_count": 35,
   "id": "49e83329",
   "metadata": {},
   "outputs": [
    {
     "data": {
      "text/plain": [
       "[Document(id='7ecc25e3-6302-44a3-b479-f9d95f978a68', metadata={'creationdate': '2004-12-18T17:00:02-05:00', 'creator': 'PyPDF', 'moddate': '2004-12-18T16:15:31-06:00', 'page': 274.0, 'page_label': '275', 'producer': 'PDFlib+PDI 5.0.0 (SunOS)', 'source': 'Data/Medical_book.pdf', 'total_pages': 637.0}, page_content='with a physician or pharmacist before combining tri-\\ncyclic antidepressants with any other prescription or non-\\nprescription (over-the-counter) medicine.\\nNancy Ross-Flanigan\\nAntidiabetic drugs\\nDefinition\\nAntidiabetic drugs are medicines that help control\\nblood sugar levels in people with diabetes mellitus\\n(sugar diabetes).\\nPurpose\\nDiabetes may be divided into type I and type II, for-\\nmerly termed juvenile onset or insulin-dependent, and\\nGALE ENCYCLOPEDIA OF MEDICINE 2 261\\nAntidiabetic drugs'),\n",
       " Document(id='f2ae4f25-1b6f-4b56-bcb8-840a908cb399', metadata={'creationdate': '2004-12-18T17:00:02-05:00', 'creator': 'PyPDF', 'moddate': '2004-12-18T16:15:31-06:00', 'page': 274.0, 'page_label': '275', 'producer': 'PDFlib+PDI 5.0.0 (SunOS)', 'source': 'Data/Medical_book.pdf', 'total_pages': 637.0}, page_content='Antidiabetic drugs\\nGEM - 0001 to 0432 - A  10/22/03 1:42 PM  Page 261'),\n",
       " Document(id='a9f17664-3efe-4032-8bb2-9e24f16349f4', metadata={'creationdate': '2004-12-18T17:00:02-05:00', 'creator': 'PyPDF', 'moddate': '2004-12-18T16:15:31-06:00', 'page': 277.0, 'page_label': '278', 'producer': 'PDFlib+PDI 5.0.0 (SunOS)', 'source': 'Data/Medical_book.pdf', 'total_pages': 637.0}, page_content='National Diabetes Information Clearinghouse. 1 Information\\nWay, Bethesda, MD 20892-3560. (301)654-3327. ndic\\n@info.niddk.nih.gov.\\nOTHER\\nNational Institute of Diabetes and Digestive and Kidney Dis-\\neases. <http://www.niddk.nih.gov>.\\nSamuel Uretsky, PharmD\\nAntidiarrheal drugs\\nDefinition\\nAntidiarrheal drugs are medicines that relieve diarrhea.\\nKEY TERMS\\nBlood sugar—The concentration of glucose in the\\nblood.\\nGlucose—A simple sugar that serves as the body’s\\nmain source of energy.')]"
      ]
     },
     "execution_count": 35,
     "metadata": {},
     "output_type": "execute_result"
    }
   ],
   "source": [
    "retrieved_docs"
   ]
  },
  {
   "cell_type": "markdown",
   "id": "b666496b",
   "metadata": {},
   "source": [
    "# Using OpenAI LLM"
   ]
  },
  {
   "cell_type": "code",
   "execution_count": 36,
   "id": "a1c4d46c",
   "metadata": {},
   "outputs": [],
   "source": [
    "from langchain_openai import OpenAI"
   ]
  },
  {
   "cell_type": "code",
   "execution_count": 39,
   "id": "beee2073",
   "metadata": {},
   "outputs": [],
   "source": [
    "OPENAI_API_KEY = os.environ.get(\"OPENAI_API_KEY\")\n"
   ]
  },
  {
   "cell_type": "code",
   "execution_count": 61,
   "id": "071cc249",
   "metadata": {},
   "outputs": [],
   "source": [
    "llm= OpenAI(\n",
    "    temperature=0.5,\n",
    "    max_tokens=500\n",
    ")\n",
    "\n"
   ]
  },
  {
   "cell_type": "markdown",
   "id": "2ad6c9c9",
   "metadata": {},
   "source": [
    "# Creating Chain & Prompt"
   ]
  },
  {
   "cell_type": "code",
   "execution_count": 62,
   "id": "d15bf17b",
   "metadata": {},
   "outputs": [],
   "source": [
    "from langchain.chains import create_retrieval_chain\n",
    "from langchain.prompts import ChatPromptTemplate\n",
    "from langchain.chains.combine_documents import create_stuff_documents_chain"
   ]
  },
  {
   "cell_type": "code",
   "execution_count": 63,
   "id": "9cad3e61",
   "metadata": {},
   "outputs": [],
   "source": [
    "system_prompt =(\n",
    "    \"You are an assistant for question answering task.\"\n",
    "    \"Use the following pieces of retrieved context to answer the question.\"\n",
    "    \"If you don't know the answer, just say that you don't know.\"\n",
    "    \"Use 3 sentence maximum to answer the question and keep it concise.\"\n",
    "    \"\\n\\n\"\n",
    "    \"{context}\"\n",
    ")"
   ]
  },
  {
   "cell_type": "code",
   "execution_count": 64,
   "id": "bc348d2c",
   "metadata": {},
   "outputs": [],
   "source": [
    "prompt = ChatPromptTemplate.from_messages(\n",
    "    [\n",
    "        (\"system\", system_prompt),\n",
    "        (\"human\",\"{input}\")\n",
    "    ]\n",
    ")"
   ]
  },
  {
   "cell_type": "code",
   "execution_count": 65,
   "id": "e07e869c",
   "metadata": {},
   "outputs": [],
   "source": [
    "question_answer_chain = create_stuff_documents_chain(llm,prompt)\n",
    "rag_chain = create_retrieval_chain(retriever,question_answer_chain)"
   ]
  },
  {
   "cell_type": "code",
   "execution_count": 73,
   "id": "eaa03a02",
   "metadata": {},
   "outputs": [
    {
     "name": "stdout",
     "output_type": "stream",
     "text": [
      "\n",
      "\n",
      "I don't know.\n"
     ]
    }
   ],
   "source": [
    "response = rag_chain.invoke({\"input\":\"Who makes playstations?\"})\n",
    "print(response['answer'])"
   ]
  }
 ],
 "metadata": {
  "kernelspec": {
   "display_name": "llmapp",
   "language": "python",
   "name": "python3"
  },
  "language_info": {
   "codemirror_mode": {
    "name": "ipython",
    "version": 3
   },
   "file_extension": ".py",
   "mimetype": "text/x-python",
   "name": "python",
   "nbconvert_exporter": "python",
   "pygments_lexer": "ipython3",
   "version": "3.10.18"
  }
 },
 "nbformat": 4,
 "nbformat_minor": 5
}
